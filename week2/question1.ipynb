{
 "cells": [
  {
   "cell_type": "markdown",
   "metadata": {},
   "source": [
    "# Closed Form Solution for Linear Regression\n",
    "![1](https://cdn-images-1.medium.com/v2/resize:fit:498/1*aenkI0FtEcWHSF5veygdkg.png)\n",
    "![2](https://cdn-images-1.medium.com/v2/resize:fit:498/1*Bt1LjOBnr9vkwPTotwM2yA.png)\n",
    "\n",
    "For more: https://towardsai.net/p/machine-learning/closed-form-and-gradient-descent-regression-explained-with-python"
   ]
  },
  {
   "cell_type": "code",
   "execution_count": 20,
   "metadata": {},
   "outputs": [
    {
     "data": {
      "text/plain": [
       "array([228.72185927, -56.00693262])"
      ]
     },
     "execution_count": 20,
     "metadata": {},
     "output_type": "execute_result"
    }
   ],
   "source": [
    "import numpy as np\n",
    "from sklearn.linear_model import LinearRegression\n",
    "\n",
    "x = [\n",
    "    [18, 53.13],\n",
    "    [58, 49.06],\n",
    "    [23, 17.38],\n",
    "    [45, 21],\n",
    "    [63, 21.66],\n",
    "    [36, 28.59],\n",
    "]\n",
    "y = [1163.43, 11381.33, 2775, 7222, 14349, 6548]\n",
    "\n",
    "x, y = np.array(x), np.array(y)\n",
    "\n",
    "# Find weights using closed form\n",
    "w = np.dot(np.dot(np.linalg.inv(np.dot(np.transpose(x), x)), np.transpose(x)), y)\n",
    "w\n"
   ]
  },
  {
   "cell_type": "code",
   "execution_count": 26,
   "metadata": {},
   "outputs": [
    {
     "data": {
      "text/plain": [
       "7328.64906056263"
      ]
     },
     "execution_count": 26,
     "metadata": {},
     "output_type": "execute_result"
    }
   ],
   "source": [
    "# Predict using closed form (Assume w_0 = 0)\n",
    "x_new = np.array([[40,32.5]])\n",
    "x_1 = x_new[0][0]\n",
    "x_2 = x_new[0][1]\n",
    "\n",
    "w_1 = w[0]\n",
    "w_2 = w[1]\n",
    "\n",
    "predicted_value = (w_1 * x_1) + (w_2 * x_2)\n",
    "predicted_value"
   ]
  }
 ],
 "metadata": {
  "kernelspec": {
   "display_name": "Python 3",
   "language": "python",
   "name": "python3"
  },
  "language_info": {
   "codemirror_mode": {
    "name": "ipython",
    "version": 3
   },
   "file_extension": ".py",
   "mimetype": "text/x-python",
   "name": "python",
   "nbconvert_exporter": "python",
   "pygments_lexer": "ipython3",
   "version": "3.10.9"
  }
 },
 "nbformat": 4,
 "nbformat_minor": 2
}
